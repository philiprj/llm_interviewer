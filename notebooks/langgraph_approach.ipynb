{
 "cells": [
  {
   "cell_type": "markdown",
   "metadata": {},
   "source": [
    "# Creating a LangGraph Approach"
   ]
  },
  {
   "cell_type": "markdown",
   "metadata": {},
   "source": [
    "Approach:\n",
    "\n",
    "Step 1: System prompt to analyse taxonomy and identify topic for question and why\n",
    "Step 2: Create a question for user\n",
    "Step 3: Take user input\n",
    "Step 4: Analyse user response using system promp\n",
    "Step 5: Decision:\n",
    "    Move on to next topic if answer is sufficient\n",
    "    Continue asking about this topic if not -> step 1\n",
    "    Max three iterations per top\n",
    "Step 6: Move onto next topic\n",
    "Step 7: Max 2 topics before ending intverview"
   ]
  },
  {
   "cell_type": "code",
   "execution_count": 1,
   "metadata": {},
   "outputs": [],
   "source": [
    "# Define the interview domains and skills structure\n",
    "INTERVIEW_DOMAINS = {\n",
    "    \"domains\": [\n",
    "        {\n",
    "            \"name\": \"LLM Architecture & Theory\",\n",
    "            \"subdomains\": [\n",
    "                {\n",
    "                    \"name\": \"Model Architecture\",\n",
    "                    \"core_skills\": [\n",
    "                        {\n",
    "                            \"name\": \"Transformer Architecture\",\n",
    "                            \"knowledge_areas\": [\n",
    "                                \"Attention Mechanisms\",\n",
    "                                \"Tokenization Methods\"\n",
    "                            ],\n",
    "                            \"practical_applications\": [\n",
    "                                \"Model Selection\",\n",
    "                                \"Architecture Optimization\",\n",
    "                            ],\n",
    "                        }\n",
    "                    ]\n",
    "                },\n",
    "                {\n",
    "                    \"name\": \"Training Methods\",\n",
    "                    \"core_skills\": [\n",
    "                        {\n",
    "                            \"name\": \"Fine-tuning Techniques\",\n",
    "                            \"knowledge_areas\": [\n",
    "                                \"LoRA\",\n",
    "                                \"RLHF\"\n",
    "                            ],\n",
    "                            \"practical_applications\": [\n",
    "                                \"Domain Adaptation\",\n",
    "                                \"Model Customization\"\n",
    "                            ],\n",
    "                        }\n",
    "                    ]\n",
    "                }\n",
    "            ]\n",
    "        },\n",
    "        {\n",
    "            \"name\": \"LLM Development\",\n",
    "            \"subdomains\": [\n",
    "                {\n",
    "                    \"name\": \"Prompt Engineering\",\n",
    "                    \"core_skills\": [\n",
    "                        {\n",
    "                            \"name\": \"Advanced Prompting\",\n",
    "                            \"knowledge_areas\": [\n",
    "                                \"Chain-of-thought\",\n",
    "                                \"Few-shot Learning\",\n",
    "                            ],\n",
    "                            \"practical_applications\": [\n",
    "                                \"Prompt Template Creation\",\n",
    "                                \"Response Optimization\",\n",
    "                            ]\n",
    "                        }\n",
    "                    ]\n",
    "                }\n",
    "            ]\n",
    "        }\n",
    "    ]\n",
    "}"
   ]
  },
  {
   "cell_type": "markdown",
   "metadata": {},
   "source": [
    "## Lets build"
   ]
  },
  {
   "cell_type": "code",
   "execution_count": 11,
   "metadata": {},
   "outputs": [],
   "source": [
    "from langgraph.graph import StateGraph, START, END\n",
    "from langgraph.checkpoint.memory import MemorySaver\n",
    "from typing import TypedDict, Annotated, Literal, List, Dict, Any\n",
    "from langchain_core.messages import BaseMessage, HumanMessage, AIMessage, SystemMessage\n",
    "from langchain.prompts import ChatPromptTemplate, MessagesPlaceholder\n",
    "from pydantic import BaseModel, Field\n",
    "import json\n",
    "import random"
   ]
  },
  {
   "cell_type": "markdown",
   "metadata": {},
   "source": [
    "Define Pydantic models to output structure"
   ]
  },
  {
   "cell_type": "code",
   "execution_count": 12,
   "metadata": {},
   "outputs": [],
   "source": [
    "class TopicSelection(BaseModel):\n",
    "    selected_topic: str = Field(description=\"The topic/domain selected for questioning\")\n",
    "    selected_subdomain: str = Field(description=\"The specific subdomain to focus on\")\n",
    "    selected_skill: str = Field(description=\"The specific skill to assess\")\n",
    "    reasoning: str = Field(description=\"Why this topic was selected for the current context\")\n",
    "\n",
    "class Question(BaseModel):\n",
    "    question: str = Field(description=\"The interview question to ask\")\n",
    "    topic_focus: str = Field(description=\"What specific aspect this question is testing\")\n",
    "    difficulty_level: str = Field(description=\"Beginner, Intermediate, or Advanced\")\n",
    "\n",
    "class ResponseEvaluation(BaseModel):\n",
    "    quality_score: float = Field(description=\"Score between 0-1 representing response quality\")\n",
    "    demonstrates_knowledge: bool = Field(description=\"Whether the response shows adequate knowledge\")\n",
    "    areas_of_strength: List[str] = Field(description=\"What the candidate did well\")\n",
    "    areas_for_improvement: List[str] = Field(description=\"Areas that could be better\")\n",
    "    should_continue_topic: bool = Field(description=\"Whether to ask another question on this topic\")\n",
    "    reasoning: str = Field(description=\"Detailed reasoning for the evaluation\")\n"
   ]
  },
  {
   "cell_type": "markdown",
   "metadata": {},
   "source": [
    "Define the interview state"
   ]
  },
  {
   "cell_type": "code",
   "execution_count": 13,
   "metadata": {},
   "outputs": [],
   "source": [
    "class InterviewState(TypedDict):\n",
    "    # Core interview data\n",
    "    taxonomy: Dict[str, Any]\n",
    "    messages: Annotated[List[BaseMessage], \"Chat history\"]\n",
    "    \n",
    "    # Topic tracking\n",
    "    current_domain: str\n",
    "    current_subdomain: str \n",
    "    current_skill: str\n",
    "    topics_covered: List[Dict[str, str]]\n",
    "    \n",
    "    # Progress tracking\n",
    "    questions_asked_current_topic: int\n",
    "    total_questions_asked: int\n",
    "    topics_completed: int\n",
    "    \n",
    "    # Evaluation data\n",
    "    current_evaluation: Dict[str, Any]\n",
    "    overall_performance: List[Dict[str, Any]]\n",
    "    \n",
    "    # Flow control\n",
    "    should_continue_interview: bool\n",
    "    interview_complete: bool"
   ]
  },
  {
   "cell_type": "code",
   "execution_count": 14,
   "metadata": {},
   "outputs": [],
   "source": [
    "from langchain_openai import ChatOpenAI\n",
    "\n",
    "# For normal accurate responses\n",
    "llm = ChatOpenAI(temperature=0.05, model=\"gpt-4o-mini\")\n",
    "\n",
    "topic_selector_llm = llm.with_structured_output(TopicSelection)\n",
    "question_generator_llm = llm.with_structured_output(Question)\n",
    "evaluator_llm = llm.with_structured_output(ResponseEvaluation)"
   ]
  },
  {
   "cell_type": "markdown",
   "metadata": {},
   "source": [
    "### Step 1: Analyse Taxonomy and select topic"
   ]
  },
  {
   "cell_type": "code",
   "execution_count": 15,
   "metadata": {},
   "outputs": [],
   "source": [
    "def analyze_taxonomy_and_select_topic(state: InterviewState) -> InterviewState:\n",
    "    \"\"\"Step 1: Analyze taxonomy and identify topic for question\"\"\"\n",
    "    \n",
    "    # Create a prompt to analyze the taxonomy and select next topic\n",
    "    system_prompt = \"\"\"You are an expert technical interviewer. Analyze the provided skills taxonomy and conversation history to select the most appropriate topic for the next question.\n",
    "\n",
    "    Consider:\n",
    "    1. What topics have already been covered\n",
    "    2. The candidate's demonstrated skill level so far\n",
    "    3. Logical progression of topics\n",
    "    4. Areas that need deeper exploration\n",
    "    \n",
    "    Select a domain, subdomain, and specific skill that would provide the most valuable assessment data.\"\"\"\n",
    "    \n",
    "    # Format the taxonomy and history for the LLM\n",
    "    taxonomy_str = json.dumps(state[\"taxonomy\"], indent=2)\n",
    "    topics_covered_str = json.dumps(state[\"topics_covered\"], indent=2)\n",
    "    \n",
    "    messages = [\n",
    "        SystemMessage(content=system_prompt),\n",
    "        HumanMessage(content=f\"\"\"\n",
    "        Skills Taxonomy:\n",
    "        {taxonomy_str}\n",
    "        \n",
    "        Topics Already Covered:\n",
    "        {topics_covered_str}\n",
    "        \n",
    "        Total Questions Asked: {state['total_questions_asked']}\n",
    "        Topics Completed: {state['topics_completed']}\n",
    "        \n",
    "        Select the next topic to explore.\"\"\")\n",
    "    ]\n",
    "    \n",
    "    topic_selection = topic_selector_llm.invoke(messages)\n",
    "    \n",
    "    return {\n",
    "        **state,\n",
    "        \"current_domain\": topic_selection.selected_topic,\n",
    "        \"current_subdomain\": topic_selection.selected_subdomain,\n",
    "        \"current_skill\": topic_selection.selected_skill,\n",
    "        \"messages\": state[\"messages\"] + [\n",
    "            AIMessage(content=f\"[INTERNAL] Selected topic: {topic_selection.selected_topic} - {topic_selection.selected_subdomain} - {topic_selection.selected_skill}. Reasoning: {topic_selection.reasoning}\")\n",
    "        ]\n",
    "    }"
   ]
  },
  {
   "cell_type": "markdown",
   "metadata": {},
   "source": [
    "### Step 2: Create Question"
   ]
  },
  {
   "cell_type": "code",
   "execution_count": 16,
   "metadata": {},
   "outputs": [],
   "source": [
    "def generate_question(state: InterviewState) -> InterviewState:\n",
    "    \"\"\"Step 2: Create a question for user\"\"\"\n",
    "    \n",
    "    system_prompt = \"\"\"You are an expert technical interviewer. Generate a thoughtful, targeted question based on the selected topic and the candidate's conversation history.\n",
    "\n",
    "    The question should:\n",
    "    1. Test both theoretical knowledge and practical application\n",
    "    2. Be appropriate for the candidate's demonstrated skill level\n",
    "    3. Allow for meaningful follow-up\n",
    "    4. Be clear and unambiguous\n",
    "    5. Encourage detailed responses\"\"\"\n",
    "    \n",
    "    # Get recent conversation for context\n",
    "    recent_messages = state[\"messages\"][-6:] if len(state[\"messages\"]) > 6 else state[\"messages\"]\n",
    "    conversation_context = \"\\n\".join([\n",
    "        f\"{msg.__class__.__name__}: {msg.content}\" for msg in recent_messages\n",
    "        if not msg.content.startswith(\"[INTERNAL]\")\n",
    "    ])\n",
    "    \n",
    "    messages = [\n",
    "        SystemMessage(content=system_prompt),\n",
    "        HumanMessage(content=f\"\"\"\n",
    "        Current Topic Focus:\n",
    "        - Domain: {state['current_domain']}\n",
    "        - Subdomain: {state['current_subdomain']}\n",
    "        - Skill: {state['current_skill']}\n",
    "        \n",
    "        Questions asked on this topic: {state['questions_asked_current_topic']}\n",
    "        \n",
    "        Recent conversation context:\n",
    "        {conversation_context}\n",
    "        \n",
    "        Generate an appropriate interview question.\"\"\")\n",
    "    ]\n",
    "    \n",
    "    question_obj = question_generator_llm.invoke(messages)\n",
    "    \n",
    "    return {\n",
    "        **state,\n",
    "        \"messages\": state[\"messages\"] + [AIMessage(content=question_obj.question)],\n",
    "        \"questions_asked_current_topic\": state[\"questions_asked_current_topic\"] + 1,\n",
    "        \"total_questions_asked\": state[\"total_questions_asked\"] + 1\n",
    "    }"
   ]
  },
  {
   "cell_type": "markdown",
   "metadata": {},
   "source": [
    "### Await User Input"
   ]
  },
  {
   "cell_type": "code",
   "execution_count": 17,
   "metadata": {},
   "outputs": [],
   "source": [
    "def wait_for_user_input(state: InterviewState) -> InterviewState:\n",
    "    \"\"\"Step 3: Wait for and capture user input - this is handled externally\"\"\"\n",
    "    # In a real implementation, this would pause for user input\n",
    "    # For demo purposes, we'll simulate or handle this in the invoke call\n",
    "    return state"
   ]
  },
  {
   "cell_type": "markdown",
   "metadata": {},
   "source": [
    "### Step 4: Analyse User Response"
   ]
  },
  {
   "cell_type": "code",
   "execution_count": 18,
   "metadata": {},
   "outputs": [],
   "source": [
    "def analyze_response(state: InterviewState) -> InterviewState:\n",
    "    \"\"\"Step 4: Analyze user response using system prompt\"\"\"\n",
    "    \n",
    "    if not state[\"messages\"] or not isinstance(state[\"messages\"][-1], HumanMessage):\n",
    "        return state\n",
    "    \n",
    "    user_response = state[\"messages\"][-1].content\n",
    "    \n",
    "    system_prompt = f\"\"\"You are an expert technical interviewer evaluating a candidate's response. Analyze the response thoroughly and provide detailed feedback.\n",
    "\n",
    "    Current Assessment Context:\n",
    "    - Domain: {state['current_domain']}\n",
    "    - Subdomain: {state['current_subdomain']}\n",
    "    - Skill: {state['current_skill']}\n",
    "    - Question Number on this topic: {state['questions_asked_current_topic']}\n",
    "    \n",
    "    Evaluate the response for:\n",
    "    1. Technical accuracy and depth\n",
    "    2. Practical understanding\n",
    "    3. Communication clarity\n",
    "    4. Areas of strength and improvement\n",
    "    5. Whether additional questions on this topic would be valuable\n",
    "    \n",
    "    Provide a quality score between 0-1 and determine if we should continue with this topic or move on.\"\"\"\n",
    "    \n",
    "    # Get the question that was asked\n",
    "    ai_messages = [msg for msg in state[\"messages\"] if isinstance(msg, AIMessage) and not msg.content.startswith(\"[INTERNAL]\")]\n",
    "    last_question = ai_messages[-1].content if ai_messages else \"No previous question found\"\n",
    "    \n",
    "    messages = [\n",
    "        SystemMessage(content=system_prompt),\n",
    "        HumanMessage(content=f\"\"\"\n",
    "        Question Asked: {last_question}\n",
    "        \n",
    "        Candidate's Response: {user_response}\n",
    "        \n",
    "        Please evaluate this response.\"\"\")\n",
    "    ]\n",
    "    \n",
    "    evaluation = evaluator_llm.invoke(messages)\n",
    "    \n",
    "    # Store the evaluation\n",
    "    evaluation_data = {\n",
    "        \"question\": last_question,\n",
    "        \"response\": user_response,\n",
    "        \"quality_score\": evaluation.quality_score,\n",
    "        \"demonstrates_knowledge\": evaluation.demonstrates_knowledge,\n",
    "        \"areas_of_strength\": evaluation.areas_of_strength,\n",
    "        \"areas_for_improvement\": evaluation.areas_for_improvement,\n",
    "        \"should_continue_topic\": evaluation.should_continue_topic,\n",
    "        \"reasoning\": evaluation.reasoning,\n",
    "        \"topic\": f\"{state['current_domain']} - {state['current_subdomain']} - {state['current_skill']}\"\n",
    "    }\n",
    "    \n",
    "    return {\n",
    "        **state,\n",
    "        \"current_evaluation\": evaluation_data,\n",
    "        \"overall_performance\": state[\"overall_performance\"] + [evaluation_data],\n",
    "        \"messages\": state[\"messages\"] + [\n",
    "            AIMessage(content=f\"[INTERNAL] Evaluation complete. Quality score: {evaluation.quality_score:.2f}. Should continue topic: {evaluation.should_continue_topic}\")\n",
    "        ]\n",
    "    }"
   ]
  },
  {
   "cell_type": "markdown",
   "metadata": {},
   "source": [
    "## Step 5: Decide Next Step"
   ]
  },
  {
   "cell_type": "code",
   "execution_count": 19,
   "metadata": {},
   "outputs": [],
   "source": [
    "def decide_next_step(state: InterviewState) -> Literal[\"continue_topic\", \"next_topic\", \"end_interview\"]:\n",
    "    \"\"\"Step 5: Decision logic for interview flow\"\"\"\n",
    "    \n",
    "    # Check if we should end the interview (max 2 topics)\n",
    "    if state[\"topics_completed\"] >= 2:\n",
    "        return \"end_interview\"\n",
    "    \n",
    "    # Check if we've asked too many questions on current topic (max 3 iterations)\n",
    "    if state[\"questions_asked_current_topic\"] >= 3:\n",
    "        return \"next_topic\"\n",
    "    \n",
    "    # Check evaluation results\n",
    "    if state[\"current_evaluation\"]:\n",
    "        evaluation = state[\"current_evaluation\"]\n",
    "        \n",
    "        # If quality is very low and we've asked multiple questions, move on\n",
    "        if evaluation[\"quality_score\"] < 0.3 and state[\"questions_asked_current_topic\"] >= 2:\n",
    "            return \"next_topic\"\n",
    "        \n",
    "        # If candidate demonstrates good knowledge, we can move on\n",
    "        if evaluation[\"demonstrates_knowledge\"] and evaluation[\"quality_score\"] > 0.7:\n",
    "            return \"next_topic\"\n",
    "        \n",
    "        # If evaluation suggests continuing with topic\n",
    "        if evaluation[\"should_continue_topic\"]:\n",
    "            return \"continue_topic\"\n",
    "    \n",
    "    # Default to next topic if we've asked 2+ questions\n",
    "    if state[\"questions_asked_current_topic\"] >= 2:\n",
    "        return \"next_topic\"\n",
    "    \n",
    "    return \"continue_topic\""
   ]
  },
  {
   "cell_type": "markdown",
   "metadata": {},
   "source": [
    "## Step 6: Move to the next topic"
   ]
  },
  {
   "cell_type": "code",
   "execution_count": 20,
   "metadata": {},
   "outputs": [],
   "source": [
    "def move_to_next_topic(state: InterviewState) -> InterviewState:\n",
    "    \"\"\"Step 6: Move onto next topic\"\"\"\n",
    "    \n",
    "    # Record the completed topic\n",
    "    completed_topic = {\n",
    "        \"domain\": state[\"current_domain\"],\n",
    "        \"subdomain\": state[\"current_subdomain\"],\n",
    "        \"skill\": state[\"current_skill\"],\n",
    "        \"questions_asked\": state[\"questions_asked_current_topic\"]\n",
    "    }\n",
    "    \n",
    "    return {\n",
    "        **state,\n",
    "        \"topics_covered\": state[\"topics_covered\"] + [completed_topic],\n",
    "        \"topics_completed\": state[\"topics_completed\"] + 1,\n",
    "        \"questions_asked_current_topic\": 0,\n",
    "        \"current_domain\": \"\",\n",
    "        \"current_subdomain\": \"\",\n",
    "        \"current_skill\": \"\",\n",
    "        \"messages\": state[\"messages\"] + [\n",
    "            AIMessage(content=f\"[INTERNAL] Moving to next topic. Topics completed: {state['topics_completed'] + 1}\")\n",
    "        ]\n",
    "    }"
   ]
  },
  {
   "cell_type": "markdown",
   "metadata": {},
   "source": [
    "### Step 7: End Interview"
   ]
  },
  {
   "cell_type": "code",
   "execution_count": 21,
   "metadata": {},
   "outputs": [],
   "source": [
    "def end_interview(state: InterviewState) -> InterviewState:\n",
    "    \"\"\"Step 7: End interview and provide summary\"\"\"\n",
    "    \n",
    "    # Calculate overall performance\n",
    "    total_score = sum([eval_data[\"quality_score\"] for eval_data in state[\"overall_performance\"]])\n",
    "    avg_score = total_score / len(state[\"overall_performance\"]) if state[\"overall_performance\"] else 0\n",
    "    \n",
    "    summary = f\"\"\"\n",
    "    Interview Complete!\n",
    "    \n",
    "    Summary:\n",
    "    - Topics Covered: {len(state['topics_covered'])}\n",
    "    - Total Questions Asked: {state['total_questions_asked']}\n",
    "    - Average Performance Score: {avg_score:.2f}/1.0\n",
    "    \n",
    "    Performance by Topic:\n",
    "    \"\"\"\n",
    "    \n",
    "    for eval_data in state[\"overall_performance\"]:\n",
    "        summary += f\"\\n- {eval_data['topic']}: {eval_data['quality_score']:.2f}/1.0\"\n",
    "    \n",
    "    return {\n",
    "        **state,\n",
    "        \"interview_complete\": True,\n",
    "        \"should_continue_interview\": False,\n",
    "        \"messages\": state[\"messages\"] + [AIMessage(content=summary)]\n",
    "    }"
   ]
  },
  {
   "cell_type": "markdown",
   "metadata": {},
   "source": [
    "## Create Interactive Workflow"
   ]
  },
  {
   "cell_type": "code",
   "execution_count": 34,
   "metadata": {},
   "outputs": [],
   "source": [
    "def create_interview_workflow():\n",
    "    \"\"\"Create and compile the interview workflow\"\"\"\n",
    "    \n",
    "    workflow = StateGraph(InterviewState)\n",
    "    \n",
    "    # Add nodes\n",
    "    workflow.add_node(\"analyze_and_select\", analyze_taxonomy_and_select_topic)\n",
    "    workflow.add_node(\"generate_question\", generate_question)\n",
    "    workflow.add_node(\"analyze_response\", analyze_response)\n",
    "    workflow.add_node(\"next_topic\", move_to_next_topic)\n",
    "    workflow.add_node(\"end_interview\", end_interview)\n",
    "    \n",
    "    # Define edges\n",
    "    workflow.add_edge(START, \"analyze_and_select\")\n",
    "    workflow.add_edge(\"analyze_and_select\", \"generate_question\")\n",
    "    \n",
    "    # Add interrupt before analyze_response to wait for user input\n",
    "    workflow.add_edge(\"generate_question\", \"analyze_response\")\n",
    "    \n",
    "    # Conditional edges for decision making\n",
    "    workflow.add_conditional_edges(\n",
    "        \"analyze_response\",\n",
    "        decide_next_step,\n",
    "        {\n",
    "            \"continue_topic\": \"analyze_and_select\",\n",
    "            \"next_topic\": \"next_topic\", \n",
    "            \"end_interview\": \"end_interview\"\n",
    "        }\n",
    "    )\n",
    "    \n",
    "    workflow.add_edge(\"next_topic\", \"analyze_and_select\")\n",
    "    workflow.add_edge(\"end_interview\", END)\n",
    "    \n",
    "    # Add memory for conversation persistence\n",
    "    memory = MemorySaver()\n",
    "    \n",
    "    # Compile with interrupt before analyze_response\n",
    "    return workflow.compile(checkpointer=memory, interrupt_before=[\"analyze_response\"])"
   ]
  },
  {
   "cell_type": "code",
   "execution_count": 35,
   "metadata": {},
   "outputs": [
    {
     "data": {
      "image/png": "[encoded data removed]",
      "text/plain": [
       "<langgraph.graph.state.CompiledStateGraph object at 0x115a9efc0>"
      ]
     },
     "execution_count": 35,
     "metadata": {},
     "output_type": "execute_result"
    }
   ],
   "source": [
    "interview_app = create_interview_workflow()\n",
    "interview_app"
   ]
  },
  {
   "cell_type": "code",
   "execution_count": 36,
   "metadata": {},
   "outputs": [],
   "source": [
    "def start_interview(taxonomy: Dict[str, Any], thread_id: str = \"interview_1\"):\n",
    "    \"\"\"Start a new interview session\"\"\"\n",
    "    \n",
    "    initial_state = {\n",
    "        \"taxonomy\": taxonomy,\n",
    "        \"messages\": [SystemMessage(content=\"Starting technical interview session...\")],\n",
    "        \"current_domain\": \"\",\n",
    "        \"current_subdomain\": \"\",\n",
    "        \"current_skill\": \"\",\n",
    "        \"topics_covered\": [],\n",
    "        \"questions_asked_current_topic\": 0,\n",
    "        \"total_questions_asked\": 0,\n",
    "        \"topics_completed\": 0,\n",
    "        \"current_evaluation\": {},\n",
    "        \"overall_performance\": [],\n",
    "        \"should_continue_interview\": True,\n",
    "        \"interview_complete\": False\n",
    "    }\n",
    "    \n",
    "    config = {\"configurable\": {\"thread_id\": thread_id}}\n",
    "    \n",
    "    # Run until we hit the interrupt (after generating first question)\n",
    "    result = interview_app.invoke(initial_state, config)\n",
    "    \n",
    "    # Extract the actual question (not internal messages)\n",
    "    questions = [msg.content for msg in result[\"messages\"] \n",
    "                if isinstance(msg, AIMessage) and not msg.content.startswith(\"[INTERNAL]\")]\n",
    "    \n",
    "    if questions:\n",
    "        print(\"INTERVIEWER:\", questions[-1])\n",
    "    \n",
    "    return result, config\n",
    "\n",
    "def continue_interview(user_response: str, config: Dict[str, Any]):\n",
    "    \"\"\"Continue the interview with a user response\"\"\"\n",
    "    \n",
    "    # Get the current state\n",
    "    current_state = interview_app.get_state(config)\n",
    "    \n",
    "    # Add user response to the conversation\n",
    "    current_state.values[\"messages\"].append(HumanMessage(content=user_response))\n",
    "    \n",
    "    # Update the state with the user's message\n",
    "    interview_app.update_state(config, {\"messages\": current_state.values[\"messages\"]})\n",
    "    \n",
    "    # Continue execution from where it was interrupted\n",
    "    result = interview_app.invoke(None, config)\n",
    "    \n",
    "    # Check if interview is complete\n",
    "    if result[\"interview_complete\"]:\n",
    "        print(\"INTERVIEW COMPLETE!\")\n",
    "        # Extract summary\n",
    "        ai_messages = [msg.content for msg in result[\"messages\"] \n",
    "                      if isinstance(msg, AIMessage) and not msg.content.startswith(\"[INTERNAL]\")]\n",
    "        if ai_messages:\n",
    "            print(ai_messages[-1])\n",
    "        return result\n",
    "    \n",
    "    # Extract the next question\n",
    "    questions = [msg.content for msg in result[\"messages\"] \n",
    "                if isinstance(msg, AIMessage) and not msg.content.startswith(\"[INTERNAL]\")]\n",
    "    \n",
    "    if questions:\n",
    "        print(\"INTERVIEWER:\", questions[-1])\n",
    "    \n",
    "    return result"
   ]
  },
  {
   "cell_type": "code",
   "execution_count": 37,
   "metadata": {},
   "outputs": [
    {
     "name": "stdout",
     "output_type": "stream",
     "text": [
      "INTERVIEWER: Can you explain the key components of the Transformer architecture and how they contribute to its performance in natural language processing tasks? Additionally, could you provide an example of how you would implement a Transformer model for a specific application, such as text summarization or translation?\n"
     ]
    }
   ],
   "source": [
    "# Start the interview\n",
    "state, config = start_interview(INTERVIEW_DOMAINS)"
   ]
  },
  {
   "cell_type": "code",
   "execution_count": 38,
   "metadata": {},
   "outputs": [
    {
     "name": "stdout",
     "output_type": "stream",
     "text": [
      "INTERVIEWER: Can you explain the concept of fine-tuning in the context of large language models, particularly focusing on the differences between task-specific fine-tuning and domain adaptation? Additionally, could you describe a practical scenario where you would choose one method over the other, and what considerations would influence your decision?\n"
     ]
    }
   ],
   "source": [
    "# Continue with user responses\n",
    "state = continue_interview(\n",
    "    \"\"\"The Transformer architecture's key components are crucial for its NLP performance.\n",
    "\n",
    "Self-Attention: Allows the model to weigh the importance of different words in a sequence relative to each other, capturing long-range dependencies effectively.\n",
    "Positional Encoding: Adds information about the position of each word, as the self-attention mechanism processes words in parallel, losing inherent order.\n",
    "Encoder-Decoder Structure: The encoder processes the input sequence, building rich representations, while the decoder uses these to generate the output sequence. Each consists of multiple identical layers.\n",
    "Feed-Forward Networks: Provide non-linearity and further transform representations within each layer.\n",
    "Residual Connections & Layer Normalisation: Aid training by enabling better gradient flow and stabilising activations.\n",
    "For text summarisation, you'd typically use a pre-trained encoder-decoder Transformer model (e.g., BART or T5) from libraries like Hugging Face. You'd fine-tune it on a dataset of articles and their summaries. The encoder would process the input article, and the decoder would generate a concise summary based on the learned relationships and the input context.\"\"\", \n",
    "config\n",
    ")"
   ]
  },
  {
   "cell_type": "code",
   "execution_count": 40,
   "metadata": {},
   "outputs": [
    {
     "name": "stdout",
     "output_type": "stream",
     "text": [
      "INTERVIEWER: Given your understanding of task-specific fine-tuning and domain adaptation, can you describe a scenario where you would implement advanced prompting techniques to enhance the performance of a large language model in a specific application? Please detail the types of prompts you would use, how you would evaluate their effectiveness, and any challenges you might face during this process.\n"
     ]
    }
   ],
   "source": [
    "# Continue with user responses\n",
    "state = continue_interview(\n",
    "    \"\"\"Fine-tuning adapts pre-trained LLMs. Task-specific fine-tuning optimises the model for a new, specific task (e.g., sentiment analysis). Domain adaptation adjusts the model to perform better on data from a different domain (e.g., legal text), retaining general capabilities. Choose task-specific for a precise new job, domain adaptation for better performance on new data within similar existing tasks.\n",
    "Fine-tuning adapts a pre-trained LLM. Task-specific fine-tuning optimises the model for a specific task (e.g., sentiment analysis) with labelled data. Domain adaptation makes the model proficient in a new domain (e.g., legal or medical text) using unlabelled domain-specific data.\n",
    "\n",
    "    Choose domain adaptation if your core issue is the LLM's understanding of domain-specific terminology. Choose task-specific fine-tuning if the LLM understands the domain but struggles with a particular job. Considerations include data availability and the required degree of specialisation.\n",
    "\n",
    "    \"\"\", \n",
    "config\n",
    ")"
   ]
  },
  {
   "cell_type": "code",
   "execution_count": 41,
   "metadata": {},
   "outputs": [
    {
     "name": "stdout",
     "output_type": "stream",
     "text": [
      "INTERVIEW COMPLETE!\n",
      "\n",
      "    Interview Complete!\n",
      "    \n",
      "    Summary:\n",
      "    - Topics Covered: 2\n",
      "    - Total Questions Asked: 3\n",
      "    - Average Performance Score: 0.80/1.0\n",
      "    \n",
      "    Performance by Topic:\n",
      "    \n",
      "- LLM Architecture & Theory - Model Architecture - Transformer Architecture: 0.85/1.0\n",
      "- LLM Architecture & Theory - Training Methods - Fine-tuning Techniques: 0.75/1.0\n",
      "- LLM Development - Prompt Engineering - Advanced Prompting: 0.80/1.0\n"
     ]
    }
   ],
   "source": [
    "# Continue with user responses\n",
    "state = continue_interview(\n",
    "    \"\"\"For a complex, low-resource classification task, I'd use advanced prompting. Techniques like few-shot prompting (providing examples in the prompt), chain-of-thought prompting (guiding the LLM through reasoning steps), or self-consistency would be employed. Effectiveness would be evaluated via accuracy metrics on a validation set. Challenges include prompt engineering complexity and sensitivity to minor changes.\n",
    "For enhancing an LLM in a new, niche domain like medical research article summarisation, I'd use advanced prompting.\n",
    "\n",
    "Types of Prompts: I'd employ Chain-of-Thought prompts (e.g., \"Think step-by-step to extract key findings, then summarise\") and Few-shot prompting with examples of medical articles and their ideal summaries.\n",
    "\n",
    "Evaluation: Assess effectiveness using ROUGE scores for summary quality and human expert review for factual accuracy and conciseness.\n",
    "\n",
    "Challenges: Avoiding hallucination of medical facts and maintaining consistent summarisation style across diverse articles.\n",
    "    \"\"\", \n",
    "config\n",
    ")"
   ]
  },
  {
   "cell_type": "code",
   "execution_count": null,
   "metadata": {},
   "outputs": [],
   "source": []
  }
 ],
 "metadata": {
  "kernelspec": {
   "display_name": ".venv",
   "language": "python",
   "name": "python3"
  },
  "language_info": {
   "codemirror_mode": {
    "name": "ipython",
    "version": 3
   },
   "file_extension": ".py",
   "mimetype": "text/x-python",
   "name": "python",
   "nbconvert_exporter": "python",
   "pygments_lexer": "ipython3",
   "version": "3.12.0"
  }
 },
 "nbformat": 4,
 "nbformat_minor": 2
}
